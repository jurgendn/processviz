{
 "cells": [
  {
   "cell_type": "markdown",
   "metadata": {},
   "source": [
    "#### Nguyễn Tiến Dũng\n",
    "\n",
    "*KSTN Toán Tin - K62 **\n",
    "\n",
    "20170062\n",
    "\n",
    "*Đại học Bách khoa Hà Nội*"
   ]
  },
  {
   "cell_type": "code",
   "execution_count": 1,
   "metadata": {},
   "outputs": [],
   "source": [
    "import processviz as pvz"
   ]
  },
  {
   "cell_type": "markdown",
   "metadata": {},
   "source": [
    "**Câu 1:**"
   ]
  },
  {
   "cell_type": "code",
   "execution_count": 2,
   "metadata": {
    "scrolled": true
   },
   "outputs": [
    {
     "data": {
      "image/png": "[encoded data removed]",
      "text/plain": [
       "<Figure size 432x288 with 1 Axes>"
      ]
     },
     "metadata": {
      "needs_background": "light"
     },
     "output_type": "display_data"
    }
   ],
   "source": [
    "G = pvz.MarkovChain()\n",
    "G.from_file('input.csv')\n",
    "G._get_nth_matrix_state(100)\n",
    "G.generate_graph()"
   ]
  },
  {
   "cell_type": "markdown",
   "metadata": {},
   "source": [
    "**Câu 2:**"
   ]
  },
  {
   "cell_type": "code",
   "execution_count": 3,
   "metadata": {
    "scrolled": true
   },
   "outputs": [
    {
     "data": {
      "image/png": "[encoded data removed]",
      "text/plain": [
       "<Figure size 432x288 with 1 Axes>"
      ]
     },
     "metadata": {
      "needs_background": "light"
     },
     "output_type": "display_data"
    }
   ],
   "source": [
    "H = pvz.MarkovChain()\n",
    "H.from_file('input_2.csv')\n",
    "H.generate_graph()"
   ]
  },
  {
   "cell_type": "markdown",
   "metadata": {},
   "source": [
    "*a.* Từ đồ thị trên ta thấy có các lớp liên thông là $\\{3\\}, \\{1, 4, 6\\}, \\{2, 5\\}$."
   ]
  },
  {
   "cell_type": "code",
   "execution_count": 4,
   "metadata": {},
   "outputs": [
    {
     "data": {
      "text/plain": [
       "[['1', '4', '6'], ['2', '5'], ['3']]"
      ]
     },
     "execution_count": 4,
     "metadata": {},
     "output_type": "execute_result"
    }
   ],
   "source": [
    "H.get_connected_component()"
   ]
  },
  {
   "cell_type": "markdown",
   "metadata": {},
   "source": [
    "*b*. Chu trình của mỗi trạng thái"
   ]
  },
  {
   "cell_type": "code",
   "execution_count": 5,
   "metadata": {},
   "outputs": [
    {
     "name": "stdout",
     "output_type": "stream",
     "text": [
      "d( 0 ) = :  0\n",
      "d( 1 ) = :  1\n",
      "d( 2 ) = :  1\n",
      "d( 3 ) = :  1\n",
      "d( 4 ) = :  1\n",
      "d( 5 ) = :  1\n",
      "d( 6 ) = :  1\n"
     ]
    }
   ],
   "source": [
    "for i in H.state:\n",
    "    print('d(',i,') = : ', H.get_period(i))"
   ]
  },
  {
   "cell_type": "markdown",
   "metadata": {},
   "source": [
    "---\n",
    "\n",
    "**Câu 3:** Từ đề bài ta có vector phân phối $\\lambda^{(0)} = [0.1,0.3,0.4,0.2]$ và ma trận xác suất chuyển\n",
    "\n",
    "$$\n",
    "P = \\left[\\begin{matrix}\n",
    "0.04&0.32&0.32&0.32\\\\\n",
    "\\frac{0.98}{3} &0.02&\\frac{0.98}{3}&\\frac{0.98}{3}\\\\\n",
    "\\frac{0.94}{3}&\\frac{0.94}{3}&0.06&\\frac{0.94}{3}\\\\\n",
    "0.04&0.04&0.04&0.88\n",
    "\\end{matrix}\\right]\n",
    "$$"
   ]
  },
  {
   "cell_type": "code",
   "execution_count": 6,
   "metadata": {},
   "outputs": [
    {
     "data": {
      "text/plain": [
       "[['A', 'B', 'C', 'D']]"
      ]
     },
     "execution_count": 6,
     "metadata": {},
     "output_type": "execute_result"
    }
   ],
   "source": [
    "G3 = pvz.MarkovChain()\n",
    "G3.from_file('input_3.csv')\n",
    "G3.get_connected_component()"
   ]
  },
  {
   "cell_type": "markdown",
   "metadata": {},
   "source": [
    "Như vậy tháng tiếp theo phân phối thị phần của khu dân cư là $\\lambda^{(2)} = [0.1332, 0.1466, 0.1583, 0.5616]$\n",
    "\n",
    "---\n",
    "\n",
    "*b.* Tìm phân phối dừng $\\lambda$"
   ]
  },
  {
   "cell_type": "code",
   "execution_count": 7,
   "metadata": {},
   "outputs": [
    {
     "data": {
      "text/plain": [
       "array([0.09090191, 0.08904677, 0.092836  , 0.72721531])"
      ]
     },
     "execution_count": 7,
     "metadata": {},
     "output_type": "execute_result"
    }
   ],
   "source": [
    "G3.get_steady_state()"
   ]
  },
  {
   "cell_type": "markdown",
   "metadata": {},
   "source": [
    "---\n",
    "\n",
    "**Câu 4:** Các bước để tìm chu kì của một trạng thái được chia thành các bước như sau\n",
    "\n",
    "1. Tìm các thành phần liên thông\n",
    "2. Sử dụng thuật toán `DFS` để tìm một chu trình từ một đỉnh bất kì. Ghi lại độ dài chu trình này.\n",
    "\n",
    "**Tìm các thành phần liên thông trong đồ thị**\n",
    "\n",
    "Sử dụng chương trình từ những bài trước gồm kiểm tra đường đi từ trạng thái $i$ đến $j$\n",
    "\n",
    "```python\n",
    "def get_connected_component(self):\n",
    "        connected_component = [[]]\n",
    "        status = {i: False for i in self.state}\n",
    "        while True:\n",
    "            counter = 0\n",
    "            for i in self.state:\n",
    "                for j in self.state:\n",
    "                    if (self.is_connected(i, j) and self.is_connected(j, i)):\n",
    "                        if status[i] == False:\n",
    "                            connected_component[counter].append(i)\n",
    "                            status[i] = True\n",
    "                        if status[j] == False:\n",
    "                            connected_component[counter].append(j)\n",
    "                            status[j] = True\n",
    "                connected_component.append([])\n",
    "                counter += 1\n",
    "            if i == self.state[len(self.state) - 1] and j == self.state[len(self.state) - 1]:\n",
    "                break\n",
    "        connected_component = list(filter(None, connected_component))\n",
    "        return connected_component\n",
    "```\n",
    "\n",
    "**Tìm chu trình của một trạng thái $i$** \n",
    "\n",
    "*Bổ đề:* Xét $I$ là `irreducible` có $n$ trạng thái, khi đó ta có $d(i) = \\underset{i \\in I}{gcd}\\{t(i) | p_{ii}^{(t(i))} > 0\\}$ với $t(i)$ là số nhỏ nhất để $p_{ii}^{(t(i))} > 0$\n",
    "\n",
    "---\n",
    "\n",
    "*Chứng minh:* \n",
    "\n",
    "Đầu tiên ta chỉ ra rằng $d(i) = \\underset{i \\in I}{gcd}\\{t(i)\\}$. Điều này hiển nhiên khi dựa vào định nghĩa của chu kì $d(i) | \\underset{n\\ge 1}{gcd}\\{n | p_ii^{(n)} > 0\\}$ và $d(i) = d(j)$\n",
    "\n",
    "Ta sẽ chứng minh $t|d(i)$. Dễ thấy $t(i)$ là số nhỏ nhất thỏa mãn điều kiện trên nên $t(i) \\le d(i)$\n",
    "\n",
    "Từ đó ta suy ra $d(i) = t$.\n",
    "\n",
    "---\n",
    "\n",
    "Sau khi đã có các thành phần liên thông của xích, ta tìm thành phần liên thông chứa trạng thái $i$, sau đó tính $t(i)$ của từng thời điểm bất kì ta lấy `gcd` của chúng để được chu kì.\n",
    "\n",
    "```python\n",
    "    def get_period(self, source):\n",
    "        component = self.get_connected_component()\n",
    "        for container in component:\n",
    "            if source in container:\n",
    "                break\n",
    "        t = []\n",
    "        for i in container:\n",
    "            t.append(self.cycle_length(i))\n",
    "        return gcd(t)\n",
    "```\n",
    "\n",
    "---\n",
    "\n",
    "> **Remark:** Em cho rằng nhận xét trên là đúng do `BFS` cho ra `shortest path` trên đồ thị không có trọng số"
   ]
  },
  {
   "cell_type": "markdown",
   "metadata": {},
   "source": [
    "**Ví dụ:** Xét $I = [0,1,2,3]$ và ma trận chuyển trạng thái $P = \\left[\\begin{matrix}0&0.1&0&0.9&0\\\\0.2&0&0.8&0\\\\0&0.3&0&0.7\\\\0.4&0&0.6&0\\end{matrix}\\right]$"
   ]
  },
  {
   "cell_type": "code",
   "execution_count": 4,
   "metadata": {},
   "outputs": [
    {
     "name": "stdout",
     "output_type": "stream",
     "text": [
      "d( 0 ):  2\n",
      "d( 1 ):  2\n",
      "d( 2 ):  2\n",
      "d( 3 ):  2\n"
     ]
    }
   ],
   "source": [
    "I = ['0','1','2','3']\n",
    "P = [[0,0.1,0,0.9],[0.2,0,0.8,0],[0,0.3,0,0.7],[0.4,0,0.6,0]]\n",
    "T = pvz.MarkovChain()\n",
    "T.from_stdin(state=I, data=P)\n",
    "\n",
    "for i in I:\n",
    "    print('d(',i,'): ', T.get_period(i))"
   ]
  },
  {
   "cell_type": "code",
   "execution_count": 5,
   "metadata": {},
   "outputs": [
    {
     "data": {
      "text/plain": [
       "'Not found origin state'"
      ]
     },
     "execution_count": 5,
     "metadata": {},
     "output_type": "execute_result"
    }
   ],
   "source": [
    "T.generate_state_graph(30)"
   ]
  },
  {
   "cell_type": "markdown",
   "metadata": {},
   "source": [
    "---\n",
    "\n",
    "**Câu 5:**"
   ]
  },
  {
   "cell_type": "code",
   "execution_count": 3,
   "metadata": {},
   "outputs": [
    {
     "data": {
      "image/png": "[encoded data removed]",
      "text/plain": [
       "<Figure size 432x288 with 1 Axes>"
      ]
     },
     "metadata": {
      "needs_background": "light"
     },
     "output_type": "display_data"
    }
   ],
   "source": [
    "R = pvz.MarkovChain()\n",
    "R.from_file('input_4.csv')\n",
    "R.generate_graph()"
   ]
  },
  {
   "cell_type": "code",
   "execution_count": 10,
   "metadata": {},
   "outputs": [
    {
     "data": {
      "text/plain": [
       "array([0.5, 0.5, 0. ])"
      ]
     },
     "execution_count": 10,
     "metadata": {},
     "output_type": "execute_result"
    }
   ],
   "source": [
    "R.get_steady_state()"
   ]
  },
  {
   "cell_type": "code",
   "execution_count": 15,
   "metadata": {},
   "outputs": [
    {
     "data": {
      "text/plain": [
       "[['0', '1'], ['2']]"
      ]
     },
     "execution_count": 15,
     "metadata": {},
     "output_type": "execute_result"
    }
   ],
   "source": [
    "R.get_connected_component()"
   ]
  },
  {
   "cell_type": "code",
   "execution_count": 16,
   "metadata": {},
   "outputs": [
    {
     "data": {
      "text/plain": [
       "False"
      ]
     },
     "execution_count": 16,
     "metadata": {},
     "output_type": "execute_result"
    }
   ],
   "source": [
    "R.is_regular()"
   ]
  },
  {
   "cell_type": "code",
   "execution_count": null,
   "metadata": {},
   "outputs": [],
   "source": []
  }
 ],
 "metadata": {
  "kernelspec": {
   "display_name": "Python 3.7.5 64-bit",
   "language": "python",
   "name": "python37564bit9c6ef5c60eed4b8ca23f96caa58fb4e1"
  },
  "language_info": {
   "codemirror_mode": {
    "name": "ipython",
    "version": 3
   },
   "file_extension": ".py",
   "mimetype": "text/x-python",
   "name": "python",
   "nbconvert_exporter": "python",
   "pygments_lexer": "ipython3",
   "version": "3.7.5"
  }
 },
 "nbformat": 4,
 "nbformat_minor": 2
}
