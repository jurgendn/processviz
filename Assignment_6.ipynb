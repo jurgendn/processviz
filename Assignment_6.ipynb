{
 "cells": [
  {
   "cell_type": "markdown",
   "metadata": {},
   "source": [
    "**Nguyễn Tiến Dũng**\n",
    "\n",
    "20170062\n",
    "\n",
    "KSTN Toán Tin - K62\n",
    "\n",
    "*Đại học Bách khoa Hà Nội*"
   ]
  },
  {
   "cell_type": "markdown",
   "metadata": {},
   "source": [
    "**Câu 1:**\n",
    "\n",
    "***a.*** Xích trên là tối giản do đồ thị biểu diễn là đồ thị liên thông có hướng\n",
    "\n",
    "***b.*** Xích Markov tối giản và đóng, do đó các trạng thái $i$ là hồi quy dương\n",
    "\n",
    "***c.*** Do các trạng thái $i$ là hồi quy dương nên tồn thời gian trung bình xích trở lại trạng thái $i$ là $m_i$ được xác định như sau\n",
    "$$\n",
    "m_i = \\frac{1}{\\pi_i}\n",
    "$$\n",
    "trong đó $$\\pi_i = \\underset{n \\to \\infty}{lim}p_{ji}^{(n)}$$\n",
    "\n",
    "Ta có $\\pi$ là phân phối dừng được xác định như sau\n",
    "$$\n",
    "\\pi = (0.46, 0.38, 0.16)\n",
    "$$\n",
    "Dẫn đến $$m = (m_0, m_1, m_2) = (2.17, 2.6, 6.5)$$"
   ]
  },
  {
   "cell_type": "code",
   "execution_count": 1,
   "metadata": {},
   "outputs": [],
   "source": [
    "import processviz as pvz"
   ]
  },
  {
   "cell_type": "markdown",
   "metadata": {},
   "source": [
    "---\n",
    "\n",
    "**Câu 2:**\n",
    "\n",
    "Phân lớp các trạng thái như sau $\\{0, 1, 2, 3, 4\\}$\n",
    "\n",
    "***a.*** Phân phối dừng $\\pi$ của xích được xác định bởi phương trình\n",
    "$$\n",
    "\\pi.P = \\pi\n",
    "$$\n",
    "Giải hệ trên ta thu được $\\pi = (0.133, 0.2       , 0.267, 0.267, 0.133)$\n",
    "\n",
    "***b.*** Xích Markov trên là liên tối giản và đóng, do đó tồn tại phân phối giới hạn và của xích. \n",
    "\n",
    "Thấy rằng ma trận trên là chính quy, do đó phân phối dừng là phân phối giới hạn và đồng thời cũng là phân phối Ergodic, do đó ta có phân phối $\\pi = (0.133, 0.2       , 0.267, 0.267, 0.133)$\n",
    "\n",
    "Chứng tỏ $\\underset{n \\to \\infty}{lim}p_{i2}^{(n)} = \\pi_2 = 0.2$\n"
   ]
  },
  {
   "cell_type": "code",
   "execution_count": 28,
   "metadata": {},
   "outputs": [
    {
     "data": {
      "text/plain": [
       "[['0', '1', '2', '3', '4']]"
      ]
     },
     "execution_count": 28,
     "metadata": {},
     "output_type": "execute_result"
    }
   ],
   "source": [
    "G2 = pvz.MarkovChain()\n",
    "G2.from_file('./assignment/assignment_6/input_1.csv')\n",
    "G2.get_communicating_class()"
   ]
  },
  {
   "cell_type": "code",
   "execution_count": 29,
   "metadata": {},
   "outputs": [
    {
     "name": "stdout",
     "output_type": "stream",
     "text": [
      "True\n",
      "True\n",
      "True\n",
      "True\n",
      "True\n"
     ]
    }
   ],
   "source": [
    "for i in G2.state:\n",
    "    print(G2.is_recurrent(i))"
   ]
  },
  {
   "cell_type": "code",
   "execution_count": 30,
   "metadata": {},
   "outputs": [
    {
     "data": {
      "image/png": "[encoded data removed]",
      "text/plain": [
       "<Figure size 432x288 with 1 Axes>"
      ]
     },
     "metadata": {
      "needs_background": "light"
     },
     "output_type": "display_data"
    }
   ],
   "source": [
    "G2.generate_graph()"
   ]
  },
  {
   "cell_type": "code",
   "execution_count": 31,
   "metadata": {},
   "outputs": [
    {
     "data": {
      "text/plain": [
       "array([0.13333333, 0.2       , 0.26666667, 0.26666667, 0.13333333])"
      ]
     },
     "execution_count": 31,
     "metadata": {},
     "output_type": "execute_result"
    }
   ],
   "source": [
    "G2.get_steady_state()"
   ]
  },
  {
   "cell_type": "markdown",
   "metadata": {},
   "source": [
    "---\n",
    "\n"
   ]
  },
  {
   "cell_type": "markdown",
   "metadata": {},
   "source": [
    "**Câu 3:**\n",
    "\n",
    "Phân lớp các trạng thái như sau\n",
    "$$\n",
    "\\begin{cases}E_0 = \\{0\\} \\\\E_1 = \\{2,3,4,5\\}\\end{cases}\n",
    "$$\n",
    "***a.***\n",
    "\n",
    "Ta thấy $E_1$ đóng và tối giản, do đó các trạng thái $2, 3, 4, 5$ là hồi quy\n",
    "\n",
    "Các trạng thái còn lại là trạng thái chuyển\n",
    "\n",
    "Chu kì:\n",
    "\n",
    "- $0$: 1\n",
    "- $2,3,4,5$: 1\n",
    "- $1$: 0\n",
    "\n",
    "***b.*** Xét riêng $E_1$. Thấy rằng $E_1$ đóng, do đó bản thân $E_1$ làm một xích Markov\n",
    "\n",
    "$E_1$ tối giản và có chu kì 1, điều đó dẫn đến $E_1$ là một xích chính quy, do đó tồn tại phân phối giới hạn chính là phân phối dừng $\\pi$ được xác định qua hệ phương trình $\\pi.P_{E_1} = \\pi$\n",
    "\n",
    "Ta có $\\pi = (0.125,0.25,0.25,0.375)$\n",
    "\n",
    "Suy ra $\\underset{n \\to \\infty}{lim}p_{i5}^{(n)} = \\pi_i, i \\in \\{2,3,4,5\\}$\n",
    "\n",
    "Từ trạng thái $1$, theo phương trình CK, ta có\n",
    "$$\n",
    "P_{15}^{(n)} = \\sum_{r \\in I}P_{1r}P_{r5}^{n-1} = P_{14}P_{45}^{(n-1)}\n",
    "$$\n",
    "Cho $n \\to \\infty$, ta có $p_{15}^{(n)} = P_{45}^{(n)} = 0.25$\n",
    "\n",
    "Từ trạng thái $0$, theo CK, ta có:\n",
    "$$\n",
    "P_{05}^{(n+1)} = \\sum_{r \\in I}P_{0r}P_{r5}^{n} = P_{00}P_{05}^{(n)} + P_{04}P_{45}^{(n)}\n",
    "$$\n",
    "Cho $n \\to \\infty$, ta có\n",
    "$$\n",
    "p = 0.5p + 0.5*0.375 \\Rightarrow p = 0.375\n",
    "$$\n",
    "Vậy $\\underset{n \\to \\infty}{P_{05}^{(n)}} = 0.375$\n",
    "\n"
   ]
  },
  {
   "cell_type": "code",
   "execution_count": 34,
   "metadata": {},
   "outputs": [
    {
     "data": {
      "text/plain": [
       "[['0'], ['2', '3', '4', '5']]"
      ]
     },
     "execution_count": 34,
     "metadata": {},
     "output_type": "execute_result"
    }
   ],
   "source": [
    "G3 = pvz.MarkovChain()\n",
    "G3.from_file('./assignment/assignment_6/input_2.csv')\n",
    "G3.get_communicating_class()"
   ]
  },
  {
   "cell_type": "code",
   "execution_count": 35,
   "metadata": {},
   "outputs": [
    {
     "name": "stdout",
     "output_type": "stream",
     "text": [
      "1\n",
      "0\n",
      "1\n",
      "1\n",
      "1\n",
      "1\n"
     ]
    }
   ],
   "source": [
    "for i in G3.state:\n",
    "    print(G3.get_period(i))"
   ]
  },
  {
   "cell_type": "code",
   "execution_count": 55,
   "metadata": {},
   "outputs": [
    {
     "data": {
      "text/plain": [
       "array([[0.5  , 0.   , 0.   , 0.   , 0.5  , 0.   ],\n",
       "       [0.   , 0.   , 1.   , 0.   , 0.   , 0.   ],\n",
       "       [0.   , 0.   , 0.   , 1.   , 0.   , 0.   ],\n",
       "       [0.   , 0.   , 0.   , 0.   , 1.   , 0.   ],\n",
       "       [0.   , 0.   , 0.   , 0.   , 0.   , 1.   ],\n",
       "       [0.   , 0.   , 0.333, 0.333, 0.   , 0.333]])"
      ]
     },
     "execution_count": 55,
     "metadata": {},
     "output_type": "execute_result"
    }
   ],
   "source": [
    "G3.matrix_at(1)"
   ]
  },
  {
   "cell_type": "markdown",
   "metadata": {},
   "source": [
    "---\n",
    "\n",
    "**Câu 4:**\n",
    "\n",
    "Phân lớp trạng thái\n",
    "$$\n",
    "\\begin{cases}E_{0} = \\{0, 1\\} \\\\E_{1} = \\{2, 3\\} \\\\E_{2} = \\{4, 5\\}\\end{cases}\n",
    "$$\n",
    "Trong đó các lớp $E_0, E_1$ là các lớp tối giản và đóng\n",
    "\n",
    "***a.***\n",
    "\n",
    "Do $E_0, E_1$ là đóng và tối giản $\\Rightarrow$ bản thân $E_0, E_1$ cũng là một xích Markov.\n",
    "\n",
    "Do đó nên tồn tại phân phối giới hạn $\\pi^0, \\pi^1$\n",
    "\n",
    "Trong đó $pi^0 = (0.6,0.4)$ và $\\pi^1 = (0.6,0.4)$ \n",
    "\n",
    "Từ đây thấy rằng \n",
    "$$\n",
    "\\begin{cases}\\underset{n \\to \\infty}{lim}P_{10}^{(n)} = 0.6 \\\\\\underset{n \\to \\infty}{lim}P_{20}^{(n)} = \\underset{n \\to \\infty}{lim}P_{30}^{(n)} = 0\\end{cases}\n",
    "$$\n",
    "***b.*** Ta có\n",
    "$$\n",
    "\\underset{n \\to \\infty}{lim}P_{34}^{(n)} = 0.4\n",
    "$$\n",
    "Theo phương trình CK, ta có:\n",
    "$$\n",
    "P_{45}^{(n+1)} = \\sum_{r \\in I}P_{4r}^{(n)}P_{r5} = P_{43}^{(n)}P_{35} + P_{45}^{(n)}P_{55} = 0.5*P_{45}^{(n)}\n",
    "$$\n",
    "Cho $n \\to \\infty$, ta thu được $\\underset{n \\to \\infty}{lim}P_{45}^{(n)} = 0$"
   ]
  },
  {
   "cell_type": "code",
   "execution_count": 68,
   "metadata": {},
   "outputs": [
    {
     "data": {
      "text/plain": [
       "[['0', '1'], ['2', '3'], ['4', '5']]"
      ]
     },
     "execution_count": 68,
     "metadata": {},
     "output_type": "execute_result"
    }
   ],
   "source": [
    "G4 = pvz.MarkovChain()\n",
    "G4.from_file('./assignment/assignment_6/input_3.csv')\n",
    "G4.get_communicating_class()"
   ]
  },
  {
   "cell_type": "code",
   "execution_count": 69,
   "metadata": {},
   "outputs": [
    {
     "data": {
      "text/plain": [
       "array([[0.6, 0.4, 0. , 0. , 0. , 0. ],\n",
       "       [0.6, 0.4, 0. , 0. , 0. , 0. ],\n",
       "       [0. , 0. , 0.6, 0.4, 0. , 0. ],\n",
       "       [0. , 0. , 0.6, 0.4, 0. , 0. ],\n",
       "       [0. , 0. , 0.6, 0.4, 0. , 0. ],\n",
       "       [0. , 0. , 0.6, 0.4, 0. , 0. ]])"
      ]
     },
     "execution_count": 69,
     "metadata": {},
     "output_type": "execute_result"
    }
   ],
   "source": [
    "G4.matrix_at(1000)"
   ]
  },
  {
   "cell_type": "code",
   "execution_count": null,
   "metadata": {},
   "outputs": [],
   "source": []
  }
 ],
 "metadata": {
  "kernelspec": {
   "display_name": "Python 3.7.5 64-bit",
   "language": "python",
   "name": "python37564bit9c6ef5c60eed4b8ca23f96caa58fb4e1"
  },
  "language_info": {
   "codemirror_mode": {
    "name": "ipython",
    "version": 3
   },
   "file_extension": ".py",
   "mimetype": "text/x-python",
   "name": "python",
   "nbconvert_exporter": "python",
   "pygments_lexer": "ipython3",
   "version": "3.7.5"
  }
 },
 "nbformat": 4,
 "nbformat_minor": 4
}
