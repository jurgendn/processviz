{
 "cells": [
  {
   "cell_type": "markdown",
   "metadata": {},
   "source": [
    "**Nguyễn Tiến Dũng**\n",
    "\n",
    "*20170062*\n",
    "\n",
    "**KSTN Toán Tin - Đại học Bách khoa Hà Nội**\n",
    "\n",
    "---\n",
    "\n",
    "**Câu 1 (2.10.8):**\n",
    "\n",
    "> Xét quá trình Poisson 2 chiều của phân bố các hạt trong mặt phẳng với tham số $\\lambda > 0$. Xác định phân phối $F_D(x)$ của khoảng cách  giữa hạt và hạt gần nhất của nó. Tính khoảng cách trung bình\n",
    "\n",
    "\n",
    "\n",
    "---\n",
    "\n",
    "**Câu 2 (2.10.10)**\n",
    "\n",
    "> Cho $X_1, X_2,...,X_n$ là các biến ngẫu nhiên độc lập, có phân phối mũ.\n",
    "Đặt $M = \\underset{j}{\\max}{X_j}$\n",
    "Chứng minh rằng \n",
    "$$\n",
    "P[M > \\sum_{i=1}^{n}X_i - M] = \\frac{n}{2^{n-1}}\n",
    "$$\n",
    "\n",
    "Giả sử các biến ngẫu nhiên $X_1, X_2,...,X_n$ là các biến ngẫu nhiên độc lập có cùng phân phối mũ với cường độ $\\lambda$.\n",
    "\n",
    "Ta có $M > \\sum_{i=1}^{n}X_i - M \\iff M > \\frac{1}{2}\\sum_{i=1}^{n}X_i$.\n",
    "\n",
    "\n",
    "\n",
    "---\n",
    "\n",
    "**Câu 3 (2.10.11):**\n",
    "\n",
    ">Cho ${X_0(t) , t ≥ 0}$ là quá trình Poisson với cường độ $\\lambda = 1$. Giả sử $h(t)$ là hàm không âm và đặt\n",
    "$$\n",
    "m(t) = \\int_{0}^{t}h(s)ds\\\\\n",
    "X(t) = X_0(m(t))\n",
    "$$\n",
    "Chứng tỏ rằng ${X_0 (t) , t ≥ 0}$ là quá trình Poisson không thuần nhất với hàm cường độ là $h(t) , t ≥ 0$.\n",
    "\n"
   ]
  },
  {
   "cell_type": "code",
   "execution_count": null,
   "metadata": {},
   "outputs": [],
   "source": []
  }
 ],
 "metadata": {
  "kernelspec": {
   "display_name": "Python 3",
   "language": "python",
   "name": "python3"
  },
  "language_info": {
   "codemirror_mode": {
    "name": "ipython",
    "version": 3
   },
   "file_extension": ".py",
   "mimetype": "text/x-python",
   "name": "python",
   "nbconvert_exporter": "python",
   "pygments_lexer": "ipython3",
   "version": "3.8.2"
  }
 },
 "nbformat": 4,
 "nbformat_minor": 4
}
