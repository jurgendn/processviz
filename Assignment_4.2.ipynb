{
 "cells": [
  {
   "cell_type": "markdown",
   "metadata": {},
   "source": [
    "**Nguyễn Tiến Dũng**\n",
    "\n",
    "20170062\n",
    "\n",
    "KSTN Toán Tin - K62\n",
    "\n",
    "*Đại học Bách khoa Hà Nội*"
   ]
  },
  {
   "cell_type": "code",
   "execution_count": 1,
   "metadata": {},
   "outputs": [],
   "source": [
    "import processviz as pvz"
   ]
  },
  {
   "cell_type": "markdown",
   "metadata": {},
   "source": [
    "**Câu 1:**\n",
    "\n",
    "Đầu tiên, dễ thấy $(X_n)$ là một xích Markov.\n",
    "\n",
    "Ta tìm ma trận xác suất chuyển của xích:\n",
    "$$\n",
    "P = \\left(\\begin{matrix}0& \\frac{1}{2} & 0 & \\frac{1}{2}\\\\\\frac{1}{2} & 0 & \\frac{1}{2} & 0 \\\\0& \\frac{1}{2} & 0 & \\frac{1}{2}\\\\\\frac{1}{2} & 0 & \\frac{1}{2} & 0\\end{matrix}\\right)\n",
    "$$\n",
    "*a.* Dễ thấy xích Markov trên là tối giản.\n",
    "\n",
    "Các trang thái có chu kì là"
   ]
  },
  {
   "cell_type": "code",
   "execution_count": 2,
   "metadata": {},
   "outputs": [
    {
     "data": {
      "text/plain": [
       "[['0', '1', '2', '3']]"
      ]
     },
     "execution_count": 2,
     "metadata": {},
     "output_type": "execute_result"
    }
   ],
   "source": [
    "G1 = pvz.MarkovChain()\n",
    "G1.from_file('./assignment/assignment_4.2/input_1.csv')\n",
    "G1.classify_state()"
   ]
  },
  {
   "cell_type": "markdown",
   "metadata": {},
   "source": [
    "*b.*Gọi 1 dãy các bước đi ngẫu nhiên  của con châu chấu là $(x_0,...,x_{100})$. Dễ thây để con châu chấu trở lại $x_0$ sau đúng 100 bước thì cần có $x_0 = x_{100}$ và $x_i \\ne x_0,\\forall i = \\overline{1,99}$. \n",
    "\n",
    "Ta có $x_0 = 0$. Điều này dẫn đến $x_1 = 2$. Tại thời điểm $2n$ thấy rằng $x_{2n} \\in \\{1,3\\}$ và $x_{2n+1} = 2$. Do đó số trường hợp để con châu chấu quay trở lại điểm xuất phát sau 100 bước là $\\frac{1}{2^{50}}$. "
   ]
  },
  {
   "cell_type": "markdown",
   "metadata": {},
   "source": [
    "---\n",
    "\n",
    "**Câu 2:** Gọi $(X_n)$ là trạng thái của đồng xu tại lần tung thứ $n, n \\ge 0$. Hiển nhiên $(X_n)$ là một xích Markov.\n",
    "\n",
    "Xét $Y_n = (X_n, X_{n+1}, X_{n+2})$. Ta chứng minh $(Y_n)$ là một xích Markov.\n",
    "\n",
    "Thật vậy, ta có \n",
    "$$\n",
    "\\begin{aligned}P(Y_{n+1} = y_{n+1}|Y_{n} = y_n) &= P[(X_n, X_{n+1}, X_{n+2}) = (i_n, j_{n+1}, k_{n+2})|(X_{n-1}, X_n, X_{n+1}) = (i_{n-1}, j_{n}, k_{n+1})] \\\\&= P[X_n, X_{n+1}, X_{n+2} = i_n, j_{n+1}, k_{n+2}|X_{n-1}, X_n, X_{n+1} = i_{n-1}, j_{n}, k_{n+1}]\\label{eq1}\\end{aligned}\n",
    "$$\n",
    "Lại có \n",
    "$$\n",
    "\\begin{aligned}&P(Y_{n+1} = y_{n+1}|Y_{n} = y_n,..,Y_0) \\\\&= P[(X_n, X_{n+1}, X_{n+2}) = (i_n, j_{n+1}, k_{n+2})|(X_{n-1}, X_n, X_{n+1}) = (i_{n-1}, j_{n}, k_{n+1}),...,(X_0, X_1, X_2) = (i_0, j_1, k_2)] \\\\&= P[X_n, X_{n+1}, X_{n+2} = i_n, j_{n+1}, k_{n+2}|X_{n-1}, X_n, X_{n+1} = i_{n-1}, j_{n}, k_{n+1},...,X_0 = i_0] \\\\& = \\frac{P(X_{n+2} = i_{n+2},...,X_0 = i_0)}{P(X_{n+1},..,X_0 = i_0)} \\\\& = \\frac{P[X_{n+2}, X_{n+1}, X_{n} = i_n, j_{n+1}, k_{n+2}|X_{n+1}, X_n, X_{n-1}]}{P[X_{n+1}, X_{n}, X_{n-1},...,X_0]} \\\\& = P[X_n, X_{n+1}, X_{n+2} = i_n, j_{n+1}, k_{n+2}|X_{n-1}, X_n, X_{n+1} = i_{n-1}, j_{n}, k_{n+1}]\\label{eq2}\\end{aligned}\n",
    "$$\n",
    "Vậy từ đó ta có $(Y_n)$ là xích Markov.\n",
    "\n",
    "Không gian trạng thái $I = \\{(x, y, z) \\in \\{S, N\\}^3 \\}$\n",
    "\n",
    "Ma trận xác suất chuyển $P$ được xác định như sau:"
   ]
  },
  {
   "cell_type": "code",
   "execution_count": 3,
   "metadata": {},
   "outputs": [],
   "source": [
    "G2 = pvz.MarkovChain()\n",
    "G2.from_file('./assignment/assignment_4.2/input_2.csv')"
   ]
  },
  {
   "cell_type": "code",
   "execution_count": 4,
   "metadata": {},
   "outputs": [
    {
     "data": {
      "text/plain": [
       "[[10.0], [8.0], [6.0], [8.0], [10.0], [6.0], [7.999999999999999]]"
      ]
     },
     "execution_count": 4,
     "metadata": {},
     "output_type": "execute_result"
    }
   ],
   "source": [
    "state, matrix = G2.get_mean_time(type='absoring')\n",
    "matrix"
   ]
  },
  {
   "cell_type": "markdown",
   "metadata": {},
   "source": [
    "Vậy trung bình mất số lần tung như trên để đạt đến trạng thái $NSN$\n",
    "\n",
    "---"
   ]
  },
  {
   "cell_type": "markdown",
   "metadata": {},
   "source": [
    "**Câu 3:**\n",
    "\n",
    "Không gian trạng thái `I = {CS_THONGTHUONG, CS_DACBIET,CS_TANGCUONG,DONG_HOP, KHOI_BENH}`\n",
    "\n",
    "Ma trận xác suất chuyển\n",
    "\n",
    "| CS_THONGTHUONG | CS_DACBIET | CS_TANGCUONG | DONG_HOP | KHOI_BENH |\n",
    "| -------------- | ---------- | ------------ | -------- | --------- |\n",
    "| 0.3            | 0.15       | 0            | 0        | 0.55      |\n",
    "| 0.2            | 0.55       | 0.1          | 0.05     | 0.1       |\n",
    "| 0.05           | 0.3        | 0.55         | 0.1      | 0         |\n",
    "| 0              | 0          | 0            | 1        | 0         |\n",
    "| 0              | 0          | 0            | 0        | 1         |\n",
    "\n",
    "Phân phối ban đầu \n",
    "\n",
    "| CS_THONGTHUONG | CS_DACBIET | CS_TANGCUONG | DONG_HOP | KHOI_BENH |\n",
    "| -------------- | ---------- | ------------ | -------- | --------- |\n",
    "| 0.6            | 0.3        | 0.1          | 0        | 0         |"
   ]
  },
  {
   "cell_type": "markdown",
   "metadata": {},
   "source": [
    "*a.* Xác suất để một bệnh nhân ở phòng ICU sau 2 ngày khỏi bệnh là $P_{24}^{(2)}$"
   ]
  },
  {
   "cell_type": "code",
   "execution_count": 5,
   "metadata": {},
   "outputs": [],
   "source": [
    "G3 = pvz.MarkovChain()\n",
    "G3.from_file('./assignment/assignment_4.2/input_3.csv')"
   ]
  },
  {
   "cell_type": "code",
   "execution_count": 6,
   "metadata": {},
   "outputs": [
    {
     "data": {
      "text/plain": [
       "0.058"
      ]
     },
     "execution_count": 6,
     "metadata": {},
     "output_type": "execute_result"
    }
   ],
   "source": [
    "G3.matrix_at(2)[2][4]"
   ]
  },
  {
   "cell_type": "code",
   "execution_count": 7,
   "metadata": {
    "scrolled": true
   },
   "outputs": [
    {
     "data": {
      "text/plain": [
       "3.2863849765258224"
      ]
     },
     "execution_count": 7,
     "metadata": {},
     "output_type": "execute_result"
    }
   ],
   "source": [
    "state, vector = G3.get_mean_time(target='CS_THONGTHUONG')\n",
    "sum(vector)"
   ]
  },
  {
   "cell_type": "code",
   "execution_count": 14,
   "metadata": {},
   "outputs": [
    {
     "data": {
      "text/plain": [
       "(['CS_THONGTHUONG', 'CS_DACBIET', 'CS_TANGCUONG'],\n",
       " [1.619718309859155, 0.6338028169014086, 0.14084507042253527])"
      ]
     },
     "execution_count": 14,
     "metadata": {},
     "output_type": "execute_result"
    }
   ],
   "source": [
    "G3.get_mean_time(source='CS_THONGTHUONG')"
   ]
  },
  {
   "cell_type": "markdown",
   "metadata": {},
   "source": [
    "*b.* Xác suất một bệnh nhân ở phòng ICU liên tiếp $k$ ngày là $0.55^k$\n",
    "\n",
    "Do đó số ngày trung bình để bệnh nhân đó tiếp tục phải ở lại chăm sóc tại phòng ICU là\n",
    "$$\n",
    "E(X|) = \\underset{n \\to \\infty}{lim}\\sum_{k = 1}^{n}k*0.55^k\n",
    "$$\n",
    "\n",
    "Xét \n",
    "$$\n",
    "\\begin{aligned}f(x) & = \\sum_{i = 1}^{n}x^i \\\\\\Rightarrow f'(x) & = \\sum_{i = 1}^{n-1}ix^{i-1} \\\\\\Rightarrow xf'(x) & = \\sum_{i = 1}^{n-1}ix^{i}\\end{aligned}\n",
    "$$\n",
    "Mặt khác lại có \n",
    "$$\n",
    "\\begin{aligned}f(x) & = \\frac{1-x^{n+1}}{1-x} \\\\\\Rightarrow f'(x) & = \\frac{1-x^{n+1}}{(1-x)^2} - \\frac{x^{n+1}(n+1)}{x(1-x)} \\\\\\Rightarrow xf'(x) & = x\\frac{1-x^{n+1}}{(1-x)^2} - \\frac{x^{n+2}(n+1)}{x(1-x)}\\end{aligned}\n",
    "$$\n",
    "Do đó\n",
    "$$\n",
    "\\begin{aligned}E(X) & = \\underset{n \\to \\infty}{lim}\\left(0.3\\frac{1-0.3^{n+1}}{(1-0.3)^2} - \\frac{0.3^{n+2}(n+1)}{0.3(1-0.3)}\\right) \\\\& = \\frac{0.55}{1-(0.55)^2} = 2.72\\end{aligned}\n",
    "$$\n"
   ]
  },
  {
   "cell_type": "markdown",
   "metadata": {},
   "source": [
    "---\n",
    "\n",
    "**Câu 4:**"
   ]
  },
  {
   "cell_type": "markdown",
   "metadata": {},
   "source": [
    "Xét ma trận xác suất chuyển $P$, không gian trạng thái $I$ và tập các trạng thái hút $S$. Ta có:\n",
    "\n",
    "$$\n",
    "P_{ii} = 1, \\forall i \\in S\n",
    "$$\n",
    "\n",
    "Thời gian trung bình được xác định như sau;\n",
    "\n",
    "$$\n",
    "\\left\\{\\begin{matrix}\n",
    "k_i = 0, \\forall i \\in S\\\\\n",
    "k_i = 1+\\sum_{j \\in I / S}{P_{ij}k_j}\n",
    "\\end{matrix}\\right.\n",
    "$$\n",
    "\n",
    "Chuyển vế ta được \n",
    "\n",
    "$$\n",
    "\\left\\{\\begin{matrix}\n",
    "k_i = 0, \\forall i \\in S\\\\\n",
    "(1-P_{ii})k_i - \\sum_{j \\ne i \\in I / S}{P_{ij}k_j} = 1\n",
    "\\end{matrix}\\right.\n",
    "$$\n",
    "\n",
    "Hay ta được hệ phương trình viết lại dưới dạng ma trận như sau: \n",
    "\n",
    "$$\n",
    "A_1k = b_1\n",
    "$$\n",
    "\n",
    "trong đó $A_1 = I - P, b_1 = (b_{1i})$ thỏa mãn $b_{1i} = 0$ nếu $i \\in S$ và $b_{1i} = 1$ nếu $i \\notin S$.\n",
    "\n",
    "Dễ thấy rằng $A_1$ là một `singular matrix`, do đó ta sẽ loại bớt tất cả những hàng $i$ có giá trị bằng 0 và cột $i$ tương ứng để được ma trận $A$. \n",
    "\n",
    "Thực hiện tương tự với $b_1$, ta xóa hết tất cả các hàng có số $0$.\n",
    "\n",
    "Chương trình như sau:\n",
    "\n",
    "```python\n",
    "def get_mean_time(self, source=None, target=None, type='transient'):\n",
    "    try:\n",
    "        state = mt.get_transient_state(self.state, self.P)\n",
    "        matrix = mt.get_mean_time_transient(self.state, self.P)\n",
    "        if type == 'absoring':\n",
    "            return state, (mt.get_mean_time_absoring(self.state, self.P)).tolist()\n",
    "        elif type == 'transient':\n",
    "            if source == None and target == None:\n",
    "                return state, matrix\n",
    "            elif source == None:\n",
    "                return state, (np.transpose(matrix)).tolist()[state.index(target)]\n",
    "            elif target == None:\n",
    "                return state, (matrix[state.index(source)]).tolist()\n",
    "            else:\n",
    "                return state, matrix[state.index(source)][state.index(target)]\n",
    "    except:\n",
    "        return \"Invalid\"\n",
    "```\n",
    "\n",
    "---\n",
    "*Ví dụ trong giáo trình của thầy Ngô Hoàng Long - trang 14*\n",
    "\n",
    "Ví dụ xét xích Markov có không gian trạng thái `I = {1, 2, 3, 4}` và ma trận xác suất chuyển\n",
    "\n",
    "| 1    | 2    | 3    | 4    |\n",
    "| ---- | ---- | ---- | ---- |\n",
    "| 1    | 0    | 0    | 0    |\n",
    "| 0.5  | 0    | 0.5  | 0    |\n",
    "| 0    | 0.5  | 0    | 0.5  |\n",
    "| 0    | 0    | 0    | 1    |\n",
    "\n",
    "Thời điểm chạm trung bình được tính như sau:"
   ]
  },
  {
   "cell_type": "code",
   "execution_count": 9,
   "metadata": {},
   "outputs": [],
   "source": [
    "G4 = pvz.MarkovChain()\n",
    "G4.from_stdin(state=['1','2','3','4'], data=[[1,0,0,0],[0.5,0,0.5,0],[0,0.5,0,0.5],[0,0,0,1]])"
   ]
  },
  {
   "cell_type": "code",
   "execution_count": 11,
   "metadata": {},
   "outputs": [],
   "source": [
    "state, expected_time = G4.get_mean_time(type='absoring')"
   ]
  },
  {
   "cell_type": "code",
   "execution_count": 12,
   "metadata": {},
   "outputs": [
    {
     "data": {
      "text/plain": [
       "[[2.0], [2.0]]"
      ]
     },
     "execution_count": 12,
     "metadata": {},
     "output_type": "execute_result"
    }
   ],
   "source": [
    "expected_time"
   ]
  },
  {
   "cell_type": "code",
   "execution_count": null,
   "metadata": {},
   "outputs": [],
   "source": []
  }
 ],
 "metadata": {
  "kernelspec": {
   "display_name": "Python 3.7.5 64-bit",
   "language": "python",
   "name": "python37564bit9c6ef5c60eed4b8ca23f96caa58fb4e1"
  },
  "language_info": {
   "codemirror_mode": {
    "name": "ipython",
    "version": 3
   },
   "file_extension": ".py",
   "mimetype": "text/x-python",
   "name": "python",
   "nbconvert_exporter": "python",
   "pygments_lexer": "ipython3",
   "version": "3.7.5"
  }
 },
 "nbformat": 4,
 "nbformat_minor": 2
}
