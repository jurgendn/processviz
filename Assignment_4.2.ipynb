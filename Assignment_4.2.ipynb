{
 "cells": [
  {
   "cell_type": "markdown",
   "metadata": {},
   "source": [
    "**Nguyễn Tiến Dũng**\n",
    "\n",
    "20170062\n",
    "\n",
    "KSTN Toán Tin - K62\n",
    "\n",
    "*Đại học Bách khoa Hà Nội*"
   ]
  },
  {
   "cell_type": "code",
   "execution_count": 1,
   "metadata": {},
   "outputs": [],
   "source": [
    "import processviz as pvz"
   ]
  },
  {
   "cell_type": "markdown",
   "metadata": {},
   "source": [
    "**Câu 1:**\n",
    "\n",
    "Đầu tiên, dễ thấy $(X_n)$ là một xích Markov.\n",
    "\n",
    "Ta tìm ma trận xác suất chuyển của xích:\n",
    "$$\n",
    "P = \\left(\\begin{matrix}0& \\frac{1}{2} & 0 & \\frac{1}{2}\\\\\\frac{1}{2} & 0 & \\frac{1}{2} & 0 \\\\0& \\frac{1}{2} & 0 & \\frac{1}{2}\\\\\\frac{1}{2} & 0 & \\frac{1}{2} & 0\\end{matrix}\\right)\n",
    "$$\n",
    "*a.* Dễ thấy xích Markov trên là tối giản.\n",
    "\n",
    "Các trang thái có chu kì là"
   ]
  },
  {
   "cell_type": "code",
   "execution_count": 2,
   "metadata": {},
   "outputs": [
    {
     "data": {
      "text/plain": [
       "[['0', '1', '2', '3']]"
      ]
     },
     "execution_count": 2,
     "metadata": {},
     "output_type": "execute_result"
    }
   ],
   "source": [
    "G1 = pvz.MarkovChain()\n",
    "G1.from_file('./assignment/assignment_4.2/input_1.csv')\n",
    "G1.classify_state()"
   ]
  },
  {
   "cell_type": "markdown",
   "metadata": {},
   "source": [
    "*b.*Gọi 1 dãy các bước đi ngẫu nhiên  của con châu chấu là $(x_0,...,x_{100})$. Dễ thây để con châu chấu trở lại $x_0$ sau đúng 100 bước thì cần có $x_0 = x_{100}$ và $x_i \\ne x_0,\\forall i = \\overline{1,99}$. \n",
    "\n",
    "Ta có $x_0 = 0$. Điều này dẫn đến $x_1 = 2$. Tại thời điểm $2n$ thấy rằng $x_{2n} \\in \\{1,3\\}$ và $x_{2n+1} = 2$. Do đó số trường hợp để con châu chấu quay trở lại điểm xuất phát sau 100 bước là $\\frac{1}{2^{50}}$. "
   ]
  },
  {
   "cell_type": "markdown",
   "metadata": {},
   "source": [
    "---\n",
    "\n",
    "**Câu 2:** Gọi $(X_n)$ là trạng thái của đồng xu tại lần tung thứ $n, n \\ge 0$. Hiển nhiên $(X_n)$ là một xích Markov.\n",
    "\n",
    "Xét $Y_n = (X_n, X_{n+1}, X_{n+2})$. Ta chứng minh $(Y_n)$ là một xích Markov.\n",
    "\n",
    "Thật vậy, ta có \n",
    "$$\n",
    "\\begin{aligned}P(Y_{n+1} = y_{n+1}|Y_{n} = y_n) &= P[(X_n, X_{n+1}, X_{n+2}) = (i_n, j_{n+1}, k_{n+2})|(X_{n-1}, X_n, X_{n+1}) = (i_{n-1}, j_{n}, k_{n+1})] \\\\&= P[X_n, X_{n+1}, X_{n+2} = i_n, j_{n+1}, k_{n+2}|X_{n-1}, X_n, X_{n+1} = i_{n-1}, j_{n}, k_{n+1}]\\label{eq1}\\end{aligned}\n",
    "$$\n",
    "Lại có \n",
    "$$\n",
    "\\begin{aligned}&P(Y_{n+1} = y_{n+1}|Y_{n} = y_n,..,Y_0) \\\\&= P[(X_n, X_{n+1}, X_{n+2}) = (i_n, j_{n+1}, k_{n+2})|(X_{n-1}, X_n, X_{n+1}) = (i_{n-1}, j_{n}, k_{n+1}),...,(X_0, X_1, X_2) = (i_0, j_1, k_2)] \\\\&= P[X_n, X_{n+1}, X_{n+2} = i_n, j_{n+1}, k_{n+2}|X_{n-1}, X_n, X_{n+1} = i_{n-1}, j_{n}, k_{n+1},...,X_0 = i_0] \\\\& = \\frac{P(X_{n+2} = i_{n+2},...,X_0 = i_0)}{P(X_{n+1},..,X_0 = i_0)} \\\\& = \\frac{P[X_{n+2}, X_{n+1}, X_{n} = i_n, j_{n+1}, k_{n+2}|X_{n+1}, X_n, X_{n-1}]}{P[X_{n+1}, X_{n}, X_{n-1},...,X_0]} \\\\& = P[X_n, X_{n+1}, X_{n+2} = i_n, j_{n+1}, k_{n+2}|X_{n-1}, X_n, X_{n+1} = i_{n-1}, j_{n}, k_{n+1}]\\label{eq2}\\end{aligned}\n",
    "$$\n",
    "Vậy từ đó ta có $(Y_n)$ là xích Markov.\n",
    "\n",
    "Không gian trạng thái $I = \\{(x, y, z) \\in \\{S, N\\}^3 \\}$\n",
    "\n",
    "Ma trận xác suất chuyển $P$ được xác định như sau:"
   ]
  },
  {
   "cell_type": "code",
   "execution_count": 3,
   "metadata": {},
   "outputs": [],
   "source": [
    "G2 = pvz.MarkovChain()\n",
    "G2.from_file('./assignment/assignment_4.2/input_2.csv')"
   ]
  },
  {
   "cell_type": "code",
   "execution_count": 9,
   "metadata": {},
   "outputs": [
    {
     "data": {
      "text/plain": [
       "array([[10.],\n",
       "       [ 8.],\n",
       "       [ 6.],\n",
       "       [ 8.],\n",
       "       [10.],\n",
       "       [ 6.],\n",
       "       [ 8.]])"
      ]
     },
     "execution_count": 9,
     "metadata": {},
     "output_type": "execute_result"
    }
   ],
   "source": [
    "state, matrix = G2.get_mean_time(type='absoring')\n",
    "matrix"
   ]
  },
  {
   "cell_type": "markdown",
   "metadata": {},
   "source": [
    "Vậy trung bình mất số lần tung như trên để đạt đến trạng thái $NSN$\n",
    "\n",
    "---"
   ]
  },
  {
   "cell_type": "markdown",
   "metadata": {},
   "source": [
    "**Câu 3:**\n",
    "\n",
    "Không gian trạng thái `I = {CS_THONGTHUONG, CS_DACBIET,CS_TANGCUONG,DONG_HOP, KHOI_BENH}`\n",
    "\n",
    "Ma trận xác suất chuyển\n",
    "\n",
    "| CS_THONGTHUONG | CS_DACBIET | CS_TANGCUONG | DONG_HOP | KHOI_BENH |\n",
    "| -------------- | ---------- | ------------ | -------- | --------- |\n",
    "| 0.3            | 0.15       | 0            | 0        | 0.55      |\n",
    "| 0.2            | 0.55       | 0.1          | 0.05     | 0.1       |\n",
    "| 0.05           | 0.3        | 0.55         | 0.1      | 0         |\n",
    "| 0              | 0          | 0            | 1        | 0         |\n",
    "| 0              | 0          | 0            | 0        | 1         |\n",
    "\n",
    "Phân phối ban đầu \n",
    "\n",
    "| CS_THONGTHUONG | CS_DACBIET | CS_TANGCUONG | DONG_HOP | KHOI_BENH |\n",
    "| -------------- | ---------- | ------------ | -------- | --------- |\n",
    "| 0.6            | 0.3        | 0.1          | 0        | 0         |"
   ]
  },
  {
   "cell_type": "markdown",
   "metadata": {},
   "source": [
    "*a.* Xác suất để một bệnh nhân ở phòng ICU sau 2 ngày khỏi bệnh là $P_{24}^{(2)}$"
   ]
  },
  {
   "cell_type": "code",
   "execution_count": 13,
   "metadata": {},
   "outputs": [],
   "source": [
    "G3 = pvz.MarkovChain()\n",
    "G3.from_file('./assignment/assignment_4.2/input_3.csv')"
   ]
  },
  {
   "cell_type": "code",
   "execution_count": 14,
   "metadata": {},
   "outputs": [
    {
     "data": {
      "text/plain": [
       "0.058"
      ]
     },
     "execution_count": 14,
     "metadata": {},
     "output_type": "execute_result"
    }
   ],
   "source": [
    "G3.matrix_at(2)[2][4]"
   ]
  },
  {
   "cell_type": "code",
   "execution_count": 11,
   "metadata": {},
   "outputs": [
    {
     "data": {
      "text/plain": [
       "(['CS_THONGTHUONG', 'CS_DACBIET', 'CS_TANGCUONG'], 2.6760563380281694)"
      ]
     },
     "execution_count": 11,
     "metadata": {},
     "output_type": "execute_result"
    }
   ],
   "source": [
    "G3.get_mean_time(source='CS_TANGCUONG', target='CS_TANGCUONG', type='transient')"
   ]
  },
  {
   "cell_type": "markdown",
   "metadata": {},
   "source": [
    "*b.* Xác suất một bệnh nhân ở phòng ICU liên tiếp $k$ ngày là $0.55^k$\n",
    "\n",
    "Do đó số ngày trung bình để bệnh nhân đó tiếp tục phải ở lại chăm sóc tại phòng ICU là\n",
    "$$\n",
    "E(X|) = \\underset{n \\to \\infty}{lim}\\sum_{k = 1}^{n}k*0.55^k\n",
    "$$\n",
    "\n",
    "Xét \n",
    "$$\n",
    "\\begin{aligned}f(x) & = \\sum_{i = 1}^{n}x^i \\\\\\Rightarrow f'(x) & = \\sum_{i = 1}^{n-1}ix^{i-1} \\\\\\Rightarrow xf'(x) & = \\sum_{i = 1}^{n-1}ix^{i}\\end{aligned}\n",
    "$$\n",
    "Mặt khác lại có \n",
    "$$\n",
    "\\begin{aligned}f(x) & = \\frac{1-x^{n+1}}{1-x} \\\\\\Rightarrow f'(x) & = \\frac{1-x^{n+1}}{(1-x)^2} - \\frac{x^{n+1}(n+1)}{x(1-x)} \\\\\\Rightarrow xf'(x) & = x\\frac{1-x^{n+1}}{(1-x)^2} - \\frac{x^{n+2}(n+1)}{x(1-x)}\\end{aligned}\n",
    "$$\n",
    "Do đó\n",
    "$$\n",
    "\\begin{aligned}E(X) & = \\underset{n \\to \\infty}{lim}\\left(0.3\\frac{1-0.3^{n+1}}{(1-0.3)^2} - \\frac{0.3^{n+2}(n+1)}{0.3(1-0.3)}\\right) \\\\& = \\frac{0.55}{1-(0.55)^2} = 2.72\\end{aligned}\n",
    "$$\n"
   ]
  },
  {
   "cell_type": "code",
   "execution_count": null,
   "metadata": {},
   "outputs": [],
   "source": [
    "G4 = pvz.MarkovChain()"
   ]
  },
  {
   "cell_type": "code",
   "execution_count": null,
   "metadata": {},
   "outputs": [],
   "source": [
    "G4.from_file('./ass4.2/input_4.csv')"
   ]
  },
  {
   "cell_type": "code",
   "execution_count": null,
   "metadata": {},
   "outputs": [],
   "source": []
  }
 ],
 "metadata": {
  "kernelspec": {
   "display_name": "Python 3.7.5 64-bit",
   "language": "python",
   "name": "python37564bit9c6ef5c60eed4b8ca23f96caa58fb4e1"
  },
  "language_info": {
   "codemirror_mode": {
    "name": "ipython",
    "version": 3
   },
   "file_extension": ".py",
   "mimetype": "text/x-python",
   "name": "python",
   "nbconvert_exporter": "python",
   "pygments_lexer": "ipython3",
   "version": "3.7.5"
  }
 },
 "nbformat": 4,
 "nbformat_minor": 2
}
