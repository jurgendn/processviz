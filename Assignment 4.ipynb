{
 "cells": [
  {
   "cell_type": "markdown",
   "metadata": {},
   "source": [
    "**Nguyễn Tiến Dũng**\n",
    "\n",
    "KSTN Toán Tin - K62\n",
    "\n",
    "*20170062*\n",
    "\n",
    "Đại học Bách khoa Hà Nội"
   ]
  },
  {
   "cell_type": "code",
   "execution_count": 49,
   "metadata": {},
   "outputs": [],
   "source": [
    "import processviz as pvz\n",
    "import sympy as sy\n",
    "\n",
    "sp.init_printing()"
   ]
  },
  {
   "cell_type": "markdown",
   "metadata": {},
   "source": [
    "**Câu 1:**\n",
    "\n",
    "*a.* Các trạng thái của con chuột $I = \\{sleep, eat, exercise\\}$.\n",
    "\n",
    "Phân phối xác suất tại $n=3$"
   ]
  },
  {
   "cell_type": "code",
   "execution_count": 34,
   "metadata": {},
   "outputs": [
    {
     "data": {
      "text/plain": [
       "array([0.884, 0.044, 0.072])"
      ]
     },
     "execution_count": 34,
     "metadata": {},
     "output_type": "execute_result"
    }
   ],
   "source": [
    "G1 = pvz.MarkovChain()\n",
    "G1.from_file('./ass4/input_1.csv')\n",
    "G1._get_state_vector(3)\n",
    "G1.state_vector"
   ]
  },
  {
   "cell_type": "markdown",
   "metadata": {},
   "source": [
    "*b.* Như chứng minh trong [assignment 2]() thì ma trận chính quy là ma trận thỏa mãn `irreducible` và `aperiodic`. Dễ thấy ma trận $P$ thỏa mãn cả 2 tính chất này.\n",
    "\n",
    "Do đó, nếu $P$ có phân phối dừng thì phân phối đó chính là phân phối giới hạn của xích `Markov`"
   ]
  },
  {
   "cell_type": "code",
   "execution_count": 29,
   "metadata": {
    "scrolled": true
   },
   "outputs": [
    {
     "data": {
      "text/plain": [
       "array([0.8839779, 0.0441989, 0.0718232])"
      ]
     },
     "execution_count": 29,
     "metadata": {},
     "output_type": "execute_result"
    }
   ],
   "source": [
    "G1.get_steady_state()"
   ]
  },
  {
   "cell_type": "markdown",
   "metadata": {},
   "source": [
    "**Câu 2:** \n",
    "*a.* $(X_n)$ là xích Markov, do việc trạng thái chuyển tiếp sang trái hoặc sang phải chỉ quyết định bởi vị trí hiện tại của nó.\n",
    "\n",
    "*b.* Tìm ma trận chuyển trạng thái\n",
    "\n",
    "Ma trận chuyển trạng thái được biểu diễn như sau:"
   ]
  },
  {
   "cell_type": "code",
   "execution_count": 50,
   "metadata": {},
   "outputs": [
    {
     "data": {
      "image/png": "[encoded data removed]",
      "text/latex": [
       "$\\displaystyle \\left[\\begin{matrix}0.0 & 0.07 & 0.0 & 0.0 & 0.93\\\\0.93 & 0.0 & 0.07 & 0.0 & 0.0\\\\0.0 & 0.93 & 0.0 & 0.07 & 0.0\\\\0.0 & 0.0 & 0.93 & 0.0 & 0.07\\\\0.07 & 0.0 & 0.0 & 0.93 & 0.0\\end{matrix}\\right]$"
      ],
      "text/plain": [
       "⎡0.0   0.07  0.0   0.0   0.93⎤\n",
       "⎢                            ⎥\n",
       "⎢0.93  0.0   0.07  0.0   0.0 ⎥\n",
       "⎢                            ⎥\n",
       "⎢0.0   0.93  0.0   0.07  0.0 ⎥\n",
       "⎢                            ⎥\n",
       "⎢0.0   0.0   0.93  0.0   0.07⎥\n",
       "⎢                            ⎥\n",
       "⎣0.07  0.0   0.0   0.93  0.0 ⎦"
      ]
     },
     "execution_count": 50,
     "metadata": {},
     "output_type": "execute_result"
    }
   ],
   "source": [
    "G2 = pvz.MarkovChain()\n",
    "G2.from_file('./ass4/input_2.csv')\n",
    "sy.Matrix(G2.data)"
   ]
  },
  {
   "cell_type": "markdown",
   "metadata": {},
   "source": [
    "Ta thấy chu kì của mỗi trạng thái là 2 nên ma trận trên không là ma trận chính quy, do đó không tồn tại phân phối giới hạn."
   ]
  },
  {
   "cell_type": "markdown",
   "metadata": {},
   "source": [
    "**Câu 3:** "
   ]
  },
  {
   "cell_type": "markdown",
   "metadata": {},
   "source": [
    "*a.* Ta chứng minh $(Y_n)$ là xích Markov. Ta có: \n",
    "\n",
    "$$\n",
    "P(Y_{n+1} = y_{n+1}|Y_{n} = y_n,...,Y_0 = y_0) = P[(X_{n+1}, X_{n+2}) = (i_{n+1}, i_{n+2})|(X_{n}, X_{n+1}) = (i_{n}, i_{n+1}),...,(X_0, X_1) = (i_0, i_1)]  \n",
    "= P[X_{n+1} = i_{n+1}, X_{n+2} = i_{n+2}|X_{n+1} = i_{n+1}, X_{n} = i_n,...,X_0 = i_0] = P[X_{n+2}= i_{n+2}|X_{n+1} = i_{n+1}] \n",
    "$$\n",
    "\n",
    "Tương tự, ta có: \n",
    "\n",
    "$$\n",
    "P(Y_{n+1} = y_{n+1}|Y_{n} = y_n) = P[(X_{n+1}, X_{n+2}) = (i_{n+1}, i_{n+2})|(X_{n}, X_{n+1}) = (i_{n}, i_{n+1})] = P[X_{n+2}= i_{n+2}|X_{n+1} = i_{n+1}]\n",
    "$$\n",
    "\n",
    "Từ 2 điều trên ta có $(Y_n)$ là xích Markov"
   ]
  },
  {
   "cell_type": "markdown",
   "metadata": {},
   "source": [
    "**Câu 4:** Về ma trận chính quy thì em đã trình bày trong `câu 5` ở [assignment 2](https://github.com/jurgendn/processviz/blob/connect_state/Assignment2.ipynb) rồi nên ở đây em chỉ nêu lại cách làm chính để kiểm tra ma trận chính quy.\n",
    "\n",
    "1. *Nếu P không tối giản thì P không phải là ma trận chính quy*\n",
    "2. *Nếu P có chu kì thì P không phải là ma trận chính quy*\n",
    "\n",
    "*P chính quy $\\leftrightarrow$ `irreducible` + `aperiodic`*\n",
    "\n",
    "---\n",
    "\n",
    "Ví dụ, với ma trận $P = [[0,0.07,0,0,0.93],[0.93,0,0.07,0,0],[0,0.93,0,0.07,0],[0,0,0.93,0,0.07],[0.07,0,0,0.93,0]]$, ta có"
   ]
  },
  {
   "cell_type": "code",
   "execution_count": 38,
   "metadata": {},
   "outputs": [
    {
     "data": {
      "text/plain": [
       "False"
      ]
     },
     "execution_count": 38,
     "metadata": {},
     "output_type": "execute_result"
    }
   ],
   "source": [
    "G41 = pvz.MarkovChain()\n",
    "G41.from_file('./ass4/input_2.csv')\n",
    "G41.is_regular()"
   ]
  },
  {
   "cell_type": "markdown",
   "metadata": {},
   "source": [
    "Ma trận trên không chính quy do các trạng thái có chu kì 2\n",
    "\n",
    "---\n",
    "\n",
    "Một ví dụ khác, với $P = [[0.9,0.05,0.05],[0.7,0,0.3],[0.8,0,0.2]]$"
   ]
  },
  {
   "cell_type": "code",
   "execution_count": 40,
   "metadata": {},
   "outputs": [
    {
     "data": {
      "text/plain": [
       "True"
      ]
     },
     "execution_count": 40,
     "metadata": {},
     "output_type": "execute_result"
    }
   ],
   "source": [
    "G42 = pvz.MarkovChain()\n",
    "G42.from_file('./ass4/input_1.csv')\n",
    "G42.is_regular()"
   ]
  },
  {
   "cell_type": "markdown",
   "metadata": {},
   "source": [
    "**Câu 5:** "
   ]
  },
  {
   "cell_type": "markdown",
   "metadata": {},
   "source": [
    "Phân phối dừng của ma trận chính quy là phân phối `Ergodic`. Do đó để tìm phân phối Ergodic, ta cần kiểm tra ma trận chính quy, rồi sau đó tìm phân phối dừng của ma trận."
   ]
  },
  {
   "cell_type": "markdown",
   "metadata": {},
   "source": [
    "Tính chính quy của ma trận có thể được tìm với method `is_regular`:\n",
    "\n",
    "```python\n",
    "G.is_regular()\n",
    "```\n",
    "\n",
    "`is_regular` gồm có:\n",
    "\n",
    "1. Kiểm tra tính tối giản qua kiểm tra số thành phần liên thông bằng 1.\n",
    "`get_connected_component()`\n",
    "2. Nếu ma trận là tối giản, kiểm tra chu kì\n",
    "`get_period`\n",
    "\n",
    "Khi cả 2 điều kiện trên thỏa mãn, kết luận xích có phân phối Ergodic, và là phân phối dừng"
   ]
  },
  {
   "cell_type": "code",
   "execution_count": 53,
   "metadata": {},
   "outputs": [
    {
     "name": "stdout",
     "output_type": "stream",
     "text": [
      "[0.8839779 0.0441989 0.0718232]\n"
     ]
    }
   ],
   "source": [
    "G5 = pvz.MarkovChain()\n",
    "G5.from_file('./ass4/input_1.csv')\n",
    "if G5.is_regular():\n",
    "    print(G5.get_steady_state())\n",
    "else:\n",
    "    print('Invalid')"
   ]
  },
  {
   "cell_type": "code",
   "execution_count": null,
   "metadata": {},
   "outputs": [],
   "source": []
  }
 ],
 "metadata": {
  "kernelspec": {
   "display_name": "Python 3.7.5 64-bit",
   "language": "python",
   "name": "python37564bit9c6ef5c60eed4b8ca23f96caa58fb4e1"
  },
  "language_info": {
   "codemirror_mode": {
    "name": "ipython",
    "version": 3
   },
   "file_extension": ".py",
   "mimetype": "text/x-python",
   "name": "python",
   "nbconvert_exporter": "python",
   "pygments_lexer": "ipython3",
   "version": "3.7.5"
  }
 },
 "nbformat": 4,
 "nbformat_minor": 2
}
