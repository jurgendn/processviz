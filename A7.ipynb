{
 "cells": [
  {
   "cell_type": "markdown",
   "metadata": {},
   "source": [
    "#### Nguyễn Tiến Dũng\n",
    "\n",
    "*CTTN Toán Tin - K62*\n",
    "\n",
    "*20170062*\n",
    "\n",
    "***Đại học Bách khoa Hà Nội***"
   ]
  },
  {
   "cell_type": "markdown",
   "metadata": {},
   "source": [
    "---\n",
    "\n",
    "## Phân phối dừng\n",
    "\n",
    "Cho ma trận chuyển trạng thái $P$\n",
    "\n",
    "Giả sử tại thời điểm $t$, $X$ có thể nhận các trạng thái $1, 2, 3,...,N$ với xác suất tương ứng là $\\pi_1, \\pi_2,..,\\pi_N$.\n",
    "\n",
    "Khi đó $\\pi = \\{\\pi_1, \\pi_2,...,\\pi_N\\}$ là vector phân phối tại thời điểm $t$. Khi đó nếu $\\pi \\times (I - P) = 0$ thì ta gọi vector phân phối xác suất $\\pi$ là `phân phối dừng`.\n",
    "\n",
    "----"
   ]
  },
  {
   "cell_type": "markdown",
   "metadata": {},
   "source": [
    "## Phân phối giới hạn\n",
    "\n",
    "Vector trạng thái $\\pi_0 = \\{\\pi_1, \\pi_2,...,\\pi_N\\}$ được gọi là có `phân phối giới hạn` nếu thỏa mãn:  \n",
    "\n",
    "\\begin{aligned}\n",
    "    \\left\\{\\begin{matrix}\n",
    "        \\pi_1 + \\pi_2 + ... + \\pi_N & = 1\\\\ \n",
    "        \\underset{n \\to \\infty}{lim}P_{ij}^{(n)} & = \\pi_j, \\forall i \n",
    "    \\end{matrix}\\right.\n",
    "\\end{aligned}\n",
    "\n",
    "---"
   ]
  },
  {
   "cell_type": "markdown",
   "metadata": {},
   "source": [
    "### Ví dụ \n",
    "\n",
    "Trong một thành phố có $1500000$ dân có 3 siêu thị lớn cạnh tranh nhau là `BigC`, `VinMart` và `Intimex`. Tại thời điểm ban đầu, người ta thấy có $400000$ khách vào `BigC`, $600000$ khách vào `VinMart` và $500000$ khách vào `Intimex`. Qua một thời gian người ta nhận ra rằng:\n",
    "- Nếu một khách hàng vào `BigC` thì có $80\\%$ họ sẽ quay lại siêu thị này, $10\\%$ sang `ViMart` và $10\\%$ sang `Intimex`\n",
    "- Mỗi khách hàng vào `VinMart` có $90\\%$ sẽ quay trở lại siêu thị này, $7\\%$ chuyển sang `BigC` và $3\\%$ chuyển sang `Intimex`\n",
    "- Mỗi một khách hàng vào `Intimex` sẽ có $85\\%$ ở lại, chuyển sang `BigC` là $8.3\\%$ và chuyển sang `VinMart` là $6.7\\%$\n",
    "\n",
    "Tính số lượng khách hàng ổn định của mỗi siêu thị\n",
    "\n",
    "---\n",
    "\n",
    "Ta có vector phân phối trạng thái \n",
    "\n",
    "\\begin{equation}\n",
    "\\pi_0 = \\left[\\frac{4}{15}, \\frac{2}{5}, \\frac{1}{3}\\right]\n",
    "\\end{equation}\n",
    "\n",
    "Ma trận chuyển trạng thái:\n",
    "\n",
    "\\begin{bmatrix}\n",
    "0.8 & 0.1 & 0.1 \\\\ \n",
    "0.07 & 0.9 & 0.03 \\\\ \n",
    "0.083 & 0.067 & 0.85\n",
    "\\end{bmatrix}\n",
    "\n",
    "Ta có $\\pi(P - I) = 0 \\leftrightarrow \\pi = \\pi P \\rightarrow \\pi = [0.273, 0.454, 0.273]$\n",
    "\n",
    "---\n",
    "\n",
    "Dưới đây là đồ thị mô tả thị phần của mỗi siêu thị "
   ]
  },
  {
   "cell_type": "code",
   "execution_count": 7,
   "metadata": {},
   "outputs": [],
   "source": [
    "import processviz as pvz"
   ]
  },
  {
   "cell_type": "code",
   "execution_count": 9,
   "metadata": {},
   "outputs": [],
   "source": [
    "g = pvz.MarkovChain()\n",
    "g.from_file('./ass1/input.csv')"
   ]
  },
  {
   "cell_type": "code",
   "execution_count": 10,
   "metadata": {},
   "outputs": [
    {
     "data": {
      "image/png": "[encoded data removed]",
      "text/plain": [
       "<Figure size 432x288 with 1 Axes>"
      ]
     },
     "metadata": {
      "needs_background": "light"
     },
     "output_type": "display_data"
    },
    {
     "data": {
      "text/plain": [
       "array([0.27313333, 0.44466667, 0.28293333])"
      ]
     },
     "execution_count": 10,
     "metadata": {},
     "output_type": "execute_result"
    }
   ],
   "source": [
    "g.generate_state_graph(10)\n",
    "g.state_vector"
   ]
  },
  {
   "cell_type": "code",
   "execution_count": 4,
   "metadata": {
    "scrolled": true
   },
   "outputs": [
    {
     "data": {
      "text/plain": [
       "array([[0.58 , 0.27 , 0.15 ],\n",
       "       [0.505, 0.393, 0.103],\n",
       "       [0.22 , 0.27 , 0.51 ]])"
      ]
     },
     "execution_count": 4,
     "metadata": {},
     "output_type": "execute_result"
    },
    {
     "data": {
      "image/png": "[encoded data removed]",
      "text/plain": [
       "<Figure size 432x288 with 1 Axes>"
      ]
     },
     "metadata": {
      "needs_background": "light"
     },
     "output_type": "display_data"
    }
   ],
   "source": [
    "g.generate_graph(2)\n",
    "g.data"
   ]
  },
  {
   "cell_type": "code",
   "execution_count": null,
   "metadata": {},
   "outputs": [],
   "source": []
  }
 ],
 "metadata": {
  "celltoolbar": "Raw Cell Format",
  "kernelspec": {
   "display_name": "Python 3.7.5 64-bit",
   "language": "python",
   "name": "python37564bit9c6ef5c60eed4b8ca23f96caa58fb4e1"
  },
  "language_info": {
   "codemirror_mode": {
    "name": "ipython",
    "version": 3
   },
   "file_extension": ".py",
   "mimetype": "text/x-python",
   "name": "python",
   "nbconvert_exporter": "python",
   "pygments_lexer": "ipython3",
   "version": "3.7.5"
  }
 },
 "nbformat": 4,
 "nbformat_minor": 2
}
