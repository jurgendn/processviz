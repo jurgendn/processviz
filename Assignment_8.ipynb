{
 "cells": [
  {
   "cell_type": "code",
   "execution_count": 1,
   "metadata": {},
   "outputs": [
    {
     "name": "stdout",
     "output_type": "stream",
     "text": [
      "Integral over uniform pdf1: 0.9999999999976694\n",
      "Integral over uniform pdf2: 0.9999999999976694\n",
      "Integral over convoluted pdf: 9999.999999976693\n"
     ]
    },
    {
     "data": {
      "image/png": "[encoded data removed]",
      "text/plain": [
       "<Figure size 432x288 with 1 Axes>"
      ]
     },
     "metadata": {
      "needs_background": "light"
     },
     "output_type": "display_data"
    }
   ],
   "source": [
    "import matplotlib.pyplot as plt\n",
    "import numpy as np\n",
    "import scipy.stats as stats\n",
    "from scipy import signal\n",
    "uniformDist1 = stats.uniform(loc=0, scale=1)\n",
    "uniformDist2 = stats.uniform(loc=0, scale=2)\n",
    "delta = 1e-4\n",
    "bigGrid = np.arange(-5,5,delta)\n",
    "# pdf: probability density function là hàm mật độ\n",
    "pdf1 = uniformDist1.pdf(bigGrid)\n",
    "print(\"Integral over uniform pdf1: \"+str(np.trapz(pdf1, bigGrid)))\n",
    "pdf2 = uniformDist2.pdf(bigGrid)\n",
    "print(\"Integral over uniform pdf2: \"+str(np.trapz(pdf2, bigGrid)))\n",
    "convPdf = signal.fftconvolve(pdf1,pdf2,'same')\n",
    "print(\"Integral over convoluted pdf: \"+str(np.trapz(convPdf, bigGrid)))\n",
    "plt.plot(bigGrid,pdf1, label='pdf1')\n",
    "plt.plot(bigGrid,pdf2, label='pdf2')\n",
    "plt.plot(bigGrid,convPdf, label='Sum')\n",
    "plt.legend(loc='best'), plt.suptitle('PDFs')\n",
    "plt.show()"
   ]
  },
  {
   "cell_type": "code",
   "execution_count": 5,
   "metadata": {},
   "outputs": [],
   "source": [
    "a = stats.expon.pdf(-2)"
   ]
  },
  {
   "cell_type": "code",
   "execution_count": 7,
   "metadata": {},
   "outputs": [
    {
     "data": {
      "text/plain": [
       "0.0"
      ]
     },
     "execution_count": 7,
     "metadata": {},
     "output_type": "execute_result"
    }
   ],
   "source": [
    "a"
   ]
  },
  {
   "cell_type": "code",
   "execution_count": null,
   "metadata": {},
   "outputs": [],
   "source": []
  }
 ],
 "metadata": {
  "kernelspec": {
   "display_name": "Python 3.7.5 64-bit",
   "language": "python",
   "name": "python37564bit9c6ef5c60eed4b8ca23f96caa58fb4e1"
  },
  "language_info": {
   "codemirror_mode": {
    "name": "ipython",
    "version": 3
   },
   "file_extension": ".py",
   "mimetype": "text/x-python",
   "name": "python",
   "nbconvert_exporter": "python",
   "pygments_lexer": "ipython3",
   "version": "3.7.5"
  }
 },
 "nbformat": 4,
 "nbformat_minor": 4
}
