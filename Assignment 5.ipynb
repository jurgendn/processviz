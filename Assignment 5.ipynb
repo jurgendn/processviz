{
 "cells": [
  {
   "cell_type": "markdown",
   "metadata": {},
   "source": [
    "**Nguyễn Tiến Dũng**\n",
    "\n",
    "KSTN Toán Tin - K62\n",
    "\n",
    "*20170062*\n",
    "\n",
    "Đại học Bách khoa Hà Nội"
   ]
  },
  {
   "cell_type": "code",
   "execution_count": 1,
   "metadata": {},
   "outputs": [],
   "source": [
    "import processviz as pvz\n",
    "import sympy as sy\n",
    "\n",
    "sy.init_printing()"
   ]
  },
  {
   "cell_type": "markdown",
   "metadata": {},
   "source": [
    "**Câu 1:**\n",
    "\n",
    "*a.* Tính $h_1, h_2$"
   ]
  },
  {
   "cell_type": "markdown",
   "metadata": {},
   "source": [
    "Trước hết ta có $h_{00} = 1$\n",
    "\n",
    "Gọi $h_{i0}$ là xác suất xuất phát từ trạng thái $i$ có thể đến được trạng thái $0$. Khi đó, xuất phát từ trạng thái $1$, nhận thấy rằng có $p_{1i}$ khả năng trạng thái 1 chuyển đến trạng thái $i$, và từ trạng thái $i$ đó chuyển đến trạng thái 0. Do đó ta có:\n",
    "\n",
    "$$\n",
    "h_{10} = 0.2h_{00} + 0.4h_{10}+0.2h_{20} + 0.2h_{30}\n",
    "$$\n",
    "\n",
    "Tương tự, ta có:\n",
    "\n",
    "$$\n",
    "\\left\\{\\begin{matrix} \n",
    "h_{10} = 0.2h_{00} + 0.4h_{10}+0.2h_{20} + 0.2h_{30} \\\\\n",
    "h_{20} = 0.3h_{00} + 0.3h_{10} + 0.2h_{20} + 0.2h_{30} \\\\\n",
    "h_{30} = 0.5h_{00} + 0.3h_{20} + 0.2h_{30} \\\\\n",
    "h_{00} = 1\n",
    "\\end{matrix}\\right.\n",
    "$$\n",
    "\n",
    "Giải hệ trên ta thu được: \n",
    "\n",
    "$$\n",
    "\\left\\{ \\begin{matrix}\n",
    "h_{10} = 1\\\\\n",
    "h_{20} = 1 \\\\\n",
    "h_{30} = 1\n",
    "\\end{matrix}\\right.\n",
    "$$"
   ]
  },
  {
   "cell_type": "code",
   "execution_count": 12,
   "metadata": {
    "scrolled": true
   },
   "outputs": [
    {
     "data": {
      "image/png": "[encoded data removed]",
      "text/plain": [
       "<Figure size 432x288 with 1 Axes>"
      ]
     },
     "metadata": {
      "needs_background": "light"
     },
     "output_type": "display_data"
    }
   ],
   "source": [
    "G = pvz.MarkovChain()\n",
    "G.from_file('./ass5/input_1.csv')\n",
    "G.generate_graph(4)"
   ]
  },
  {
   "cell_type": "markdown",
   "metadata": {},
   "source": [
    "*b.* Tính $k_{10}, k_{20}$\n",
    "\n",
    "Dễ thấy $k_{00} = 0$\n",
    "\n",
    "Kí hiệu $k_{i0}$ là số bước trung bình để đi từ trạng thái $i$ đến trạng thái 0. Thấy rằng từ trạng thái $i$, ta có thể đến trạng thái $j$ mất 1 bước, rồi từ trạng thái $j$ mất trung bình $k_{j0}$ bước để đến trạng thái 0. Từ đó ta có:\n",
    "\n",
    "$$\n",
    "k_{10} = 1+0.4k_{10} + 0.2k_{20} + 0.2k_{30} + 0.2k_{00}\n",
    "$$\n",
    "\n",
    "Tương tự ta có: \n",
    "\n",
    "$$\n",
    "\\left\\{\\begin{matrix}\n",
    "k_{00} = 0 \\\\\n",
    "k_{10} = 1+0.4k_{10} + 0.2k_{20} + 0.2k_{30} + 0.2k_{00} \\\\\n",
    "k_{20} = 1 + 0.3k_{00} + 0.3k_{10} + 0.2k_{20} + 0.2k_{30} \\\\\n",
    "k_{30} = 1 + 0.5k_{00} + 0.3k_{20} + 0.2k_{30}\n",
    "\\end{matrix}\\right.\n",
    "$$\n",
    "\n",
    "Giải hệ trên ta thu được \n",
    "\n",
    "$$\n",
    "\\left\\{\\begin{matrix}\n",
    "k_{00} = 0\\\\\n",
    "k_{10} = \\frac{500}{141} \\sim 3.55 \\\\\n",
    "k_{20} = \\frac{150}{47} \\sim 3.19 \\\\\n",
    "k_{30} = \\frac{115}{47} \\sim 2.45\n",
    "\\end{matrix}\\right.\n",
    "$$"
   ]
  },
  {
   "cell_type": "markdown",
   "metadata": {},
   "source": [
    "**Câu 2:** \n",
    "*a.* Tư tưởng chính là xây dựng bài toán sử dụng công thức truy hồi. Đầu tiên, ta sẽ tính $P_2$.\n",
    "\n",
    "Giả sử ma trận $P$ có kích thước $(m+n) \\times (m+n)$, trong đó tương ứng các thành phần có kích thước như sau:\n",
    "\n",
    "- Ma trận đơn vị $I$: $m \\times m$\n",
    "- Ma trận O: $m \\times n$\n",
    "- Ma trận R: $n \\times m$\n",
    "- Ma trận Q: $n \\times n$\n",
    "\n",
    "Ma trận $P^2$ hiển nhiên cũng có thể chia ra thành các phần như trên. Giả sử \n",
    "\n",
    "$$\n",
    "P^2 = \\begin{pmatrix}\n",
    "I_2 & |& O_2 \\\\ \n",
    " R_2 & |& Q_2\n",
    "\\end{pmatrix}\n",
    "$$\n",
    "\n",
    "Ta sẽ chứng minh $I_2 = I$ và $O_2 = O$.\n",
    "\n",
    "Thật vâỵ, với $P_{ij}^{2} \\in I_2$ ta có:\n",
    "\n",
    "$$\n",
    "P_{ij}^2 = \\sum_{k=1}^{m+n}P_{ik}P_{kj} = \\sum_{k=1}^{m}P_{ik}P_{kj} + \\sum_{k=m+1}^{m+n}P_{ik}P_{kj}\n",
    "$$\n",
    "\n",
    "Do $(i, j)$ nằm trong $I_2$ nên $1 \\le i, j \\le m$. Thấy rằng: \n",
    "\n",
    "- Nếu $i=k$ thì $P_{ik} = 1$, mọi i\n",
    "- Nếu $i \\ne k$ thì $P_{ik} = 0$, mọi i\n",
    "\n",
    "Do đó $\\sum_{k=1}^{m}P_{ik}P_{kj} = 1$ nếu $i=j$ và bằng 0 nếu $i \\ne j$\n",
    "\n",
    "Xét $\\sum_{k=m+1}^{m+n}P_{ik}P_{kj}$, dễ thấy tổng này bằng 0 do $P_{ik}$ lúc này thuộc phần ma trận $O$.\n",
    "\n",
    "Từ 2 điều trên, suy ra $I_2 = I$.\n",
    "\n",
    "Chứng minh hoàn toàn tương tự ta cũng có $O_2 = O$.\n",
    "\n",
    "---\n",
    "\n",
    "> Gọi $X_{c(k)}$ là cột thứ $k$ của ma trận $X$; $X_{r(k)}$ là hàng thứ $k$ của ma trận $X$. \n",
    "\n",
    "---\n",
    "\n",
    "Ta tính các vị trí $R_2$. \n",
    "\n",
    "Ta có:\n",
    "\n",
    "$$\n",
    "P_{ij}^2 = \\sum_{k=1}^{m+n}P_{ik}P_{kj} = \\sum_{k=1}^{m}P_{ik}P_{kj} + \\sum_{k=m+1}^{m+n}P_{ik}P_{kj}\n",
    "$$\n",
    "\n",
    "Xét $(i, j) \\in R_2$. \n",
    "\n",
    "Xét tổng $\\sum_{k=1}^{m}P_{ik}P_{kj}$. Dễ thấy với $k = j$ thì $P_{kj} = 1$ và $P_{kj} = 0$ nếu $k \\ne j$. Do đó $\\sum_{k=1}^{m}P_{ik}P_{kj} = P_{ij}$.\n",
    "\n",
    "Xét $\\sum_{k=m+1}^{m+n}P_{ik}P_{kj} = R_{ck}.Q_{rk}$. Điều này chứng tỏ với $P_{ij}^2 \\in R_2$ thì $P_{ij}^2 = P_{ij} + R_{c(j)}Q_{r(i)}$\n",
    "\n",
    "---\n",
    "\n",
    "Tính $Q_2$:\n",
    "\n",
    "Ta có:\n",
    "\n",
    "$$\n",
    "Q_{ij}^2 = \\sum_{k=1}^{m+n}P_{ik}P_{kj} = \\sum_{k=1}^{m}P_{ik}P_{kj} + \\sum_{k=m+1}^{m+n}P_{ik}P_{kj}\n",
    "$$\n",
    "\n",
    "Xét $(i, j) \\in Q_2$. \n",
    "\n",
    "Xét tổng $\\sum_{k=1}^{m}P_{ik}P_{kj}$. Dễ thấy với $P_{kj} = 0$ với mọi $k$. Do đó $\\sum_{k=1}^{m}P_{ik}P_{kj} = 0$.\n",
    "\n",
    "Xét $\\sum_{k=m+1}^{m+n}P_{ik}P_{kj} = Q.Q = Q^2$. Điều này chứng tỏ với $P_{ij}^2 \\in Q_2$ thì $Q_{ij}^2 = Q_{r(i)}Q_{c(j)}$, hay $Q_2 = Q^2$\n",
    "\n",
    "---\n",
    "\n",
    "Lập luận hoàn toàn tương tự, ta có thể chứng minh được ma trận $P^n$ như sau: \n",
    "\n",
    "$$\n",
    "P^n = \\begin{pmatrix}\n",
    "I & |& O \\\\ \n",
    " R_n & |& Q_n\n",
    "\\end{pmatrix}\n",
    "$$\n",
    "\n",
    "trong đó:\n",
    "- $Q_n = Q^n$\n",
    "- $R_n$ được xác định như sau:\n",
    "    - $R_{n, (ij)} = R_{1, c(j)}*Q_{n-1, r(i)}$\n",
    "    \n",
    "---\n",
    "\n",
    "**Remark:** Đến đây thì em có thể lập trình được chương trình tính ma trận $P^n$ dạng này, mà em nghĩ còn rút gọn được hơn nữa\n",
    "\n",
    "---"
   ]
  },
  {
   "cell_type": "markdown",
   "metadata": {},
   "source": [
    "**Câu 3:** Mê cung có dạng như sau:\n",
    "\n",
    "|   |   |   |\n",
    "|---|---|---|\n",
    "| 1 | 2 | 3 |\n",
    "| 4 | 5 | 6 |\n",
    "| 7 | 8 | 9 |"
   ]
  },
  {
   "cell_type": "code",
   "execution_count": 20,
   "metadata": {},
   "outputs": [
    {
     "data": {
      "image/png": "[encoded data removed]",
      "text/plain": [
       "<Figure size 432x288 with 1 Axes>"
      ]
     },
     "metadata": {
      "needs_background": "light"
     },
     "output_type": "display_data"
    }
   ],
   "source": [
    "G3 = pvz.MarkovChain()\n",
    "G3.from_file('./ass5/input_2.csv')\n",
    "G3.generate_graph()"
   ]
  },
  {
   "cell_type": "code",
   "execution_count": null,
   "metadata": {},
   "outputs": [],
   "source": []
  }
 ],
 "metadata": {
  "kernelspec": {
   "display_name": "Python 3.7.5 64-bit",
   "language": "python",
   "name": "python37564bit9c6ef5c60eed4b8ca23f96caa58fb4e1"
  },
  "language_info": {
   "codemirror_mode": {
    "name": "ipython",
    "version": 3
   },
   "file_extension": ".py",
   "mimetype": "text/x-python",
   "name": "python",
   "nbconvert_exporter": "python",
   "pygments_lexer": "ipython3",
   "version": "3.7.5"
  }
 },
 "nbformat": 4,
 "nbformat_minor": 2
}
